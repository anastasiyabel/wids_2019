{
 "cells": [
  {
   "cell_type": "markdown",
   "metadata": {
    "slideshow": {
     "slide_type": "slide"
    }
   },
   "source": [
    "# Submitting Results to Kaggle"
   ]
  },
  {
   "cell_type": "markdown",
   "metadata": {
    "slideshow": {
     "slide_type": "fragment"
    }
   },
   "source": [
    "* We will be working in teams to compete in this year's WiDS Kaggle Competition\n",
    "* You will need to create a Kaggle account if you haven't already\n",
    "* We will be building models in google colab programming environment\n",
    "* First steps:\n",
    "    * Create an account or sign-in at https://www.kaggle.com\n",
    "    * Sign into your gmail account to use google colab notebook\n",
    "    * Go to https://www.kaggle.com/c/widsdatathon2019"
   ]
  },
  {
   "cell_type": "markdown",
   "metadata": {
    "slideshow": {
     "slide_type": "slide"
    }
   },
   "source": [
    "# Click \"Join Competition\"\n",
    "<img src=\"images/wids_join_competition.png\" alt=\"\" style=\"height: 300px;\" align=\"center\"/>"
   ]
  },
  {
   "cell_type": "markdown",
   "metadata": {
    "slideshow": {
     "slide_type": "slide"
    }
   },
   "source": [
    "# Make a Team\n",
    "* After you have joined the competition, you will see an additional Team tab appear\n",
    "* The deadline for making a team on the website is 7pm!\n",
    "<img src=\"images/teams.png\" alt=\"\" style=\"height: 600px;\" align=\"center\"/>"
   ]
  },
  {
   "cell_type": "markdown",
   "metadata": {
    "slideshow": {
     "slide_type": "slide"
    }
   },
   "source": [
    "# Take a Look at the Task and Data\n",
    "* Create a model that predicts the presence of oil palm plantations in satellite imagery. \n",
    "* The dataset images are 3-meter spatial resolution, and each is labeled with whether an oil palm plantation appears in the image (0 for no plantation, 1 for any presence of a plantation)\n",
    "<img src=\"images/data_file_descript.png\" alt=\"\" style=\"height: 300px;\" align=\"center\"/>"
   ]
  },
  {
   "cell_type": "markdown",
   "metadata": {
    "slideshow": {
     "slide_type": "slide"
    }
   },
   "source": [
    "# Training vs. Holdout vs. Test Data\n",
    "* Train_images folder contains labeled images\n",
    "* Both holdout and test folders have images but no labels\n",
    "* You will be predicting the labels of images for these two sets\n",
    "* You will add your test data and the holdout data and submit their predictions in Kaggle for the public leaderboard\n",
    "* Public leaderboard can be used to compare how well you are doing to others\n",
    "* Private leaderboard - only released publicly at the end of the competition and is used to announce the winner"
   ]
  },
  {
   "cell_type": "markdown",
   "metadata": {
    "slideshow": {
     "slide_type": "slide"
    }
   },
   "source": [
    "# Obtaining the Data\n",
    "* We will use Kaggle API for obtaining the data (much faster than downloading it and uploading it to google colab)\n",
    "* We will need to create a token\n",
    "* In the upper right corner click on your profile --> My Account\n",
    "<img src=\"images/account.png\" alt=\"\" style=\"height: 200px;\" align=\"center\"/>\n",
    "* **Then click on Create New API Token**\n",
    "<img src=\"images/kaggle_api_token.png\" alt=\"\" style=\"height: 200px;\" align=\"center\"/>\n",
    "* **kaggle.json file should now auto-download to your computer**"
   ]
  },
  {
   "cell_type": "markdown",
   "metadata": {
    "slideshow": {
     "slide_type": "slide"
    }
   },
   "source": [
    "# Google colab\n",
    "* Build models, explore data, get results on google colab\n",
    "* We made a template https://colab.research.google.com/drive/18bpy3bqof1oP6t0RaYT_bybODIEnZHMi\n",
    "* Save a copy of the google colab notebook so that you can edit it and your changes are saved to your google drive\n",
    "* File --> Save a Copy in Drive ...\n",
    "* The notebook shows you how to obtain data using Kaggle API, create a submission file and download the submission file to your laptop"
   ]
  },
  {
   "cell_type": "markdown",
   "metadata": {
    "slideshow": {
     "slide_type": "slide"
    }
   },
   "source": [
    "# Submitting the Results\n",
    "* We made a submissions.csv file\n",
    "* Now back at https://www.kaggle.com/c/widsdatathon2019, click on \"Submit Predictions\"\n",
    "* Upload your submissions file\n",
    "* The scoring of your submission might take a couple of minutes\n",
    "<img src=\"images/make_submission.png\" alt=\"\" style=\"height: 300px;\" align=\"center\"/>"
   ]
  },
  {
   "cell_type": "markdown",
   "metadata": {
    "slideshow": {
     "slide_type": "slide"
    }
   },
   "source": [
    "# Reminders\n",
    "* You may submit a maximum of 5 entries per day.\n",
    "* You may select up to 2 final submissions for judging.\n",
    "* End Date: February 27, 2019 11:59 PM UTC\n",
    "* Have fun!"
   ]
  }
 ],
 "metadata": {
  "celltoolbar": "Slideshow",
  "kernelspec": {
   "display_name": "Python 3",
   "language": "python",
   "name": "python3"
  },
  "language_info": {
   "codemirror_mode": {
    "name": "ipython",
    "version": 3
   },
   "file_extension": ".py",
   "mimetype": "text/x-python",
   "name": "python",
   "nbconvert_exporter": "python",
   "pygments_lexer": "ipython3",
   "version": "3.6.3"
  }
 },
 "nbformat": 4,
 "nbformat_minor": 2
}
